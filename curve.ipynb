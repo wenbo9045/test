{
 "cells": [
  {
   "cell_type": "code",
   "execution_count": 1,
   "metadata": {},
   "outputs": [],
   "source": [
    "from sympy import *"
   ]
  },
  {
   "cell_type": "code",
   "execution_count": 2,
   "metadata": {},
   "outputs": [],
   "source": [
    "# c is coefficient for Polynomial of t\n",
    "c0,c1,c2,c3,c4,c5,t = symbols('c0 c1 c2 c3 c4 c5 t')\n",
    "c012 = Matrix([c0, c1, c2])\n",
    "c345 = Matrix([c3, c4, c5])\n",
    "# x is start state, y is end state\n",
    "x0, x1, x2, y0, y1, y2 = symbols('x0 x1 x2 y0 y1 y2')\n",
    "y = Matrix([y0, y1, y2])\n",
    "# k is l2-norm penalties for state\n",
    "k1,k2,k3 = symbols('k1 k2 k3')"
   ]
  },
  {
   "cell_type": "code",
   "execution_count": 3,
   "metadata": {},
   "outputs": [],
   "source": [
    "# from equations unlabeled between equation (8) and (9)\n",
    "m1 = Matrix([[1,t,t**2],[0,1,2*t],[0,0,2]])\n",
    "m2 = Matrix([[t**3, t**4, t**5], [3*t**2, 4*t**3, 5*t**4], [6*t, 12*t**2, 20*t**3]])"
   ]
  },
  {
   "cell_type": "code",
   "execution_count": 4,
   "metadata": {},
   "outputs": [],
   "source": [
    "# from equation (7) and (9)\n",
    "c0 = x0\n",
    "c1 = x1\n",
    "c2 = x2/2\n",
    "phi3 = 6*c3+24*t*c4+60*t**2*c5\n",
    "phi2 = -24*c4-120*t*c5\n",
    "phi1 = 120*c5"
   ]
  },
  {
   "cell_type": "code",
   "execution_count": 5,
   "metadata": {},
   "outputs": [],
   "source": [
    "# define h = k0 * t + 0.5 * (k1 *(x0-y0)**2 + k2*(x1-y1)**2 + k3*(x2-y2)**2)\n",
    "# we can derive from equation (13) without loss of generality, that\n",
    "phi_div_k = Matrix([phi1/k1, phi2/k2, phi3/k3])"
   ]
  },
  {
   "cell_type": "code",
   "execution_count": 6,
   "metadata": {},
   "outputs": [
    {
     "data": {
      "text/plain": [
       "Matrix([\n",
       "[                       120*c5/k1],\n",
       "[          (-24*c4 - 120*c5*t)/k2],\n",
       "[(6*c3 + 24*c4*t + 60*c5*t**2)/k3]])"
      ]
     },
     "execution_count": 6,
     "metadata": {},
     "output_type": "execute_result"
    }
   ],
   "source": [
    "phi_div_k"
   ]
  },
  {
   "cell_type": "code",
   "execution_count": 7,
   "metadata": {},
   "outputs": [],
   "source": [
    "# delta_m * c345 = phi_div_k\n",
    "delta_m = Matrix([[0,0,120/k1],[0,-24/k2,-120*t/k2],[6/k3,24*t/k3,60*t**2/k3]])"
   ]
  },
  {
   "cell_type": "code",
   "execution_count": 8,
   "metadata": {},
   "outputs": [
    {
     "name": "stdout",
     "output_type": "stream",
     "text": [
      "⎡            120  ⎤\n",
      "⎢0    0      ───  ⎥\n",
      "⎢             k₁  ⎥\n",
      "⎢                 ⎥\n",
      "⎢    -24   -120⋅t ⎥\n",
      "⎢0   ────  ───────⎥\n",
      "⎢     k₂      k₂  ⎥\n",
      "⎢                 ⎥\n",
      "⎢               2 ⎥\n",
      "⎢6   24⋅t   60⋅t  ⎥\n",
      "⎢──  ────   ───── ⎥\n",
      "⎣k₃   k₃      k₃  ⎦\n"
     ]
    }
   ],
   "source": [
    "pprint(delta_m)"
   ]
  },
  {
   "cell_type": "code",
   "execution_count": 9,
   "metadata": {},
   "outputs": [
    {
     "data": {
      "text/plain": [
       "Matrix([\n",
       "[0],\n",
       "[0],\n",
       "[0]])"
      ]
     },
     "execution_count": 9,
     "metadata": {},
     "output_type": "execute_result"
    }
   ],
   "source": [
    "simplify(delta_m * c345 - phi_div_k)"
   ]
  },
  {
   "cell_type": "code",
   "execution_count": 10,
   "metadata": {},
   "outputs": [],
   "source": [
    "m3 = m2 + delta_m"
   ]
  },
  {
   "cell_type": "code",
   "execution_count": 11,
   "metadata": {},
   "outputs": [
    {
     "name": "stdout",
     "output_type": "stream",
     "text": [
      "⎡    3           4          5   120   ⎤\n",
      "⎢   t           t          t  + ───   ⎥\n",
      "⎢                                k₁   ⎥\n",
      "⎢                                     ⎥\n",
      "⎢     2        3   24       4   120⋅t ⎥\n",
      "⎢  3⋅t      4⋅t  - ──    5⋅t  - ───── ⎥\n",
      "⎢                  k₂             k₂  ⎥\n",
      "⎢                                     ⎥\n",
      "⎢                                    2⎥\n",
      "⎢      6       2   24⋅t      3   60⋅t ⎥\n",
      "⎢6⋅t + ──  12⋅t  + ────  20⋅t  + ─────⎥\n",
      "⎣      k₃           k₃             k₃ ⎦\n"
     ]
    }
   ],
   "source": [
    "pprint(m3)"
   ]
  },
  {
   "cell_type": "code",
   "execution_count": 12,
   "metadata": {},
   "outputs": [],
   "source": [
    "b_vec = y - m1 * c012"
   ]
  },
  {
   "cell_type": "code",
   "execution_count": 13,
   "metadata": {},
   "outputs": [],
   "source": [
    "c345_vec = m3.LUsolve(b_vec)"
   ]
  },
  {
   "cell_type": "code",
   "execution_count": 14,
   "metadata": {},
   "outputs": [],
   "source": [
    "# analytic solutions for c3,c4,c5\n",
    "c3 = c345_vec[0]\n",
    "c4 = c345_vec[1]\n",
    "c5 = c345_vec[2]"
   ]
  },
  {
   "cell_type": "code",
   "execution_count": 15,
   "metadata": {},
   "outputs": [
    {
     "data": {
      "text/plain": [
       "(-20*c0*k1*k2*k3*t**6 - 120*c0*k1*k2*t**5 - 960*c0*k1*k3*t**3 - 1440*c0*k1*t**2 - 12*c1*k1*k2*k3*t**7 - 84*c1*k1*k2*t**6 - 960*c1*k1*k3*t**4 - 1440*c1*k1*t**3 - 1440*c1*k2*k3*t**2 - 2880*c1*k2*t - 6*c2*k1*k2*k3*t**8 - 48*c2*k1*k2*t**7 - 768*c2*k1*k3*t**5 - 1440*c2*k1*t**4 - 1920*c2*k2*k3*t**3 - 5760*c2*k2*t**2 - 5760*c2*k3 + k1*k2*k3*t**8*y2 - 8*k1*k2*k3*t**7*y1 + 20*k1*k2*k3*t**6*y0 - 36*k1*k2*t**6*y1 + 120*k1*k2*t**5*y0 - 96*k1*k3*t**5*y2 + 960*k1*k3*t**3*y0 + 1440*k1*t**2*y0 - 480*k2*k3*t**3*y2 + 1440*k2*k3*t**2*y1 + 2880*k2*t*y1 + 2880*k3*y2)/(2*(k1*k2*k3*t**9 + 9*k1*k2*t**8 + 192*k1*k3*t**6 + 432*k1*t**5 + 720*k2*k3*t**4 + 2880*k2*t**3 + 8640*k3*t + 8640))"
      ]
     },
     "execution_count": 15,
     "metadata": {},
     "output_type": "execute_result"
    }
   ],
   "source": [
    "simplify(c3)"
   ]
  },
  {
   "cell_type": "code",
   "execution_count": 16,
   "metadata": {},
   "outputs": [
    {
     "data": {
      "text/plain": [
       "(15*c0*k1*k2*k3*t**5 + 75*c0*k1*k2*t**4 + 360*c0*k1*k3*t**2 + 360*c0*k1*t + 8*c1*k1*k2*k3*t**6 + 48*c1*k1*k2*t**5 + 360*c1*k1*k3*t**3 + 360*c1*k1*t**2 + 360*c1*k2*k3*t + 360*c1*k2 + 3*c2*k1*k2*k3*t**7 + 21*c2*k1*k2*t**6 + 240*c2*k1*k3*t**4 + 360*c2*k1*t**3 + 360*c2*k2*k3*t**2 + 720*c2*k2*t - k1*k2*k3*t**7*y2 + 7*k1*k2*k3*t**6*y1 - 15*k1*k2*k3*t**5*y0 + 27*k1*k2*t**5*y1 - 75*k1*k2*t**4*y0 + 60*k1*k3*t**4*y2 - 360*k1*k3*t**2*y0 - 360*k1*t*y0 + 180*k2*k3*t**2*y2 - 360*k2*k3*t*y1 - 360*k2*y1)/(k1*k2*k3*t**9 + 9*k1*k2*t**8 + 192*k1*k3*t**6 + 432*k1*t**5 + 720*k2*k3*t**4 + 2880*k2*t**3 + 8640*k3*t + 8640)"
      ]
     },
     "execution_count": 16,
     "metadata": {},
     "output_type": "execute_result"
    }
   ],
   "source": [
    "simplify(c4)"
   ]
  },
  {
   "cell_type": "code",
   "execution_count": 17,
   "metadata": {},
   "outputs": [
    {
     "data": {
      "text/plain": [
       "k1*(-6*k2*t**3*(k3*t + 3)*(3*c0 + 3*c1*t + 3*c2*t**2 - t*(c1 + 2*c2*t - y1) - 3*y0) - k3*t**3*(2*c2 - y2)*(k2*t**3 - 24) + 6*(k2*t**3 - 24)*(k3*t + 1)*(c0 + c1*t + c2*t**2 - y0))/(20*k1*k3*t**6*(k2*t**3 - 24) + 60*k1*t**5*(k2*t**3 - 24) + 6*t**3*(k3*t + 3)*(-5*k1*k2*t**5 + 120*k1*t**2 + 3*k2*(k1*t**5 + 120)) - 6*(k1*t**5 + 120)*(k2*t**3 - 24)*(k3*t + 1))"
      ]
     },
     "execution_count": 17,
     "metadata": {},
     "output_type": "execute_result"
    }
   ],
   "source": [
    "simplify(c5)"
   ]
  },
  {
   "cell_type": "code",
   "execution_count": null,
   "metadata": {},
   "outputs": [],
   "source": []
  }
 ],
 "metadata": {
  "kernelspec": {
   "display_name": "Python 3",
   "language": "python",
   "name": "python3"
  },
  "language_info": {
   "codemirror_mode": {
    "name": "ipython",
    "version": 3
   },
   "file_extension": ".py",
   "mimetype": "text/x-python",
   "name": "python",
   "nbconvert_exporter": "python",
   "pygments_lexer": "ipython3",
   "version": "3.6.5"
  }
 },
 "nbformat": 4,
 "nbformat_minor": 2
}
